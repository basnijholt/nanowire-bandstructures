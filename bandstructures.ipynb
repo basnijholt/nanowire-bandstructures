{
 "cells": [
  {
   "cell_type": "markdown",
   "metadata": {},
   "source": [
    "# Bandstructures for 1D, 2D, and 3D nanowires\n",
    "For more information see: B. Nijholt, A. R. Akhmerov, *Orbital effect of magnetic field on the Majorana phase diagram*, [arXiv:1509.02675](https://arxiv.org/abs/1509.02675) [[pdf](https://arxiv.org/pdf/1509.02675.pdf)], [Phys. Rev. B 93, 235434 (2016)](http://journals.aps.org/prb/abstract/10.1103/PhysRevB.93.235434)."
   ]
  },
  {
   "cell_type": "code",
   "execution_count": null,
   "metadata": {
    "collapsed": false
   },
   "outputs": [],
   "source": [
    "from functools import partial\n",
    "import holoviews as hv\n",
    "import kwant\n",
    "import numpy as np\n",
    "from wires import make_1d_wire, make_2d_wire, make_3d_wire, make_3d_wire_external_sc\n",
    "import sympy.physics\n",
    "from scipy.constants import hbar, m_e, eV, physical_constants\n",
    "import types\n",
    "\n",
    "class SimpleNamespace(types.SimpleNamespace):\n",
    "    def update(self, **kwargs):\n",
    "        self.__dict__.update(kwargs)\n",
    "        return self\n",
    "\n",
    "hv.notebook_extension()\n",
    "%output size=150\n",
    "%opts Path [aspect='square']\n",
    "    \n",
    "# Parameters taken from arXiv:1204.2792\n",
    "# All constant parameters, mostly fundamental constants, in a SimpleNamespace.\n",
    "constants = SimpleNamespace(\n",
    "    m=0.015 * m_e,  # effective mass in kg\n",
    "    a=10,  # lattice spacing in nm\n",
    "    g=50,  # Lande factor\n",
    "    hbar=hbar,\n",
    "    m_e=m_e,\n",
    "    meV=eV * 1e-3)\n",
    "\n",
    "constants.t = (hbar ** 2 / (2 * constants.m)) * (1e18 / constants.meV)  # meV * nm^2\n",
    "constants.mu_B = physical_constants['Bohr magneton'][0] / constants.meV\n",
    "\n",
    "\n",
    "def make_params(alpha=20,\n",
    "                B_x=0,\n",
    "                B_y=0,\n",
    "                B_z=0,\n",
    "                Delta=0.25,\n",
    "                mu=0,\n",
    "                orbital=True,\n",
    "                t=constants.t,\n",
    "                g=50,\n",
    "                mu_B=constants.mu_B,\n",
    "                **kwargs):\n",
    "    \"\"\"Function that creates a namespace with parameters.\n",
    "\n",
    "    Parameters:\n",
    "    -----------\n",
    "    alpha : float\n",
    "        Spin-orbit coupling strength in units of meV*nm.\n",
    "    B_x, B_y, B_z : float\n",
    "        The magnetic field strength in the x, y and z direction in units of Tesla.\n",
    "    Delta : float\n",
    "        The superconducting gap in units of meV.\n",
    "    mu : float\n",
    "        The chemical potential in units of meV.\n",
    "    orbital : bool\n",
    "        Switches the orbital effects on and off.\n",
    "    t : float\n",
    "        Hopping parameter in meV * nm^2.\n",
    "    g : float\n",
    "        Lande g factor.\n",
    "    mu_B : float\n",
    "        Bohr magneton in meV/K.\n",
    "\n",
    "    Returns:\n",
    "    --------\n",
    "    p : SimpleNamespace object\n",
    "        A simple container that is used to store Hamiltonian parameters.\n",
    "    \"\"\"\n",
    "    p = SimpleNamespace(alpha=alpha,\n",
    "                              B_x=B_x,\n",
    "                              B_y=B_y,\n",
    "                              B_z=B_z,\n",
    "                              Delta=Delta,\n",
    "                              mu=mu,\n",
    "                              orbital=orbital,\n",
    "                              t=t,\n",
    "                              g=g,\n",
    "                              mu_B=mu_B,\n",
    "                              **kwargs)\n",
    "    return p\n",
    "\n",
    "\n",
    "def plot_bands(lead, p, c=constants):\n",
    "    \"\"\"\n",
    "    Plots the bandstructure for lead.\n",
    "\n",
    "    Parameters:\n",
    "    -----------\n",
    "    p : SimpleNamespace object\n",
    "        A simple container that is used to store Hamiltonian parameters.\n",
    "    lead : kwant.builder.InfiniteSystem object\n",
    "        The finalized infinite system.\n",
    "    c : SimpleNamespace object\n",
    "        A namespace container with all constant (fundamental) parameters used.\n",
    "    \"\"\"\n",
    "    Q = np.sqrt(p.mu ** 2 + p.Delta ** 2) - \\\n",
    "        np.sqrt(p.B_x ** 2 + p.B_y ** 2 + p.B_z ** 2) * c.g * c.mu_B / 2\n",
    "    if Q > 0:\n",
    "        print(\"System is trivial (B < sqrt(mu**2 + delta**2))\")\n",
    "    else:\n",
    "        print(\"System is topological (B > sqrt(mu**2 + delta**2))\")\n",
    "\n",
    "    bands = kwant.physics.Bands(lead, args=[p])\n",
    "    momenta = np.linspace(-2, 2, 51)\n",
    "    evs = np.array([bands(k=k) for k in momenta])\n",
    "    \n",
    "    dims = [hv.Dimension(name=r'$k$', unit=r'nm$^{-1}$'),\n",
    "            hv.Dimension(name=r'$E$', unit=r'meV')]\n",
    "    \n",
    "    return hv.Path((momenta, evs), kdims=dims, label=\"Band structure\")\n",
    "\n",
    "kdims = [hv.Dimension(\"ylim\", range=(0.01, 50)), \n",
    "         hv.Dimension(r\"$\\alpha$\", range=(0, 50), unit='meV·nm'), \n",
    "         hv.Dimension(r\"$\\mu$\", range=(0.0, 30), unit='meV'), \n",
    "         hv.Dimension(r\"$B_x$\", range=(0, 10), unit='T'), \n",
    "         hv.Dimension(r\"$B_y$\", range=(0, 10), unit='T'), \n",
    "         hv.Dimension(r\"$B_z$\", range=(0, 0.5), unit='T'), \n",
    "         hv.Dimension(r\"$\\Delta$\", range=(0, 1), unit='meV'),\n",
    "         hv.Dimension(\"orbital\", values=[True, False])]\n",
    "\n",
    "\n",
    "def dm(lead, p, ylim, alpha, mu, B_x, B_y, B_z, Delta, orbital):\n",
    "    \"\"\"Simple wrapper function.\"\"\"\n",
    "    return plot_bands(lead, p.update(mu=mu, \n",
    "                                     alpha=alpha, \n",
    "                                     B_x=B_x, \n",
    "                                     B_y=B_y, \n",
    "                                     B_z=B_z, \n",
    "                                     Delta=Delta,\n",
    "                                     orbital=orbital)).select(E=(-ylim, ylim))"
   ]
  },
  {
   "cell_type": "markdown",
   "metadata": {},
   "source": [
    "# 1D semiconductor heterostructure with proximity induced superconductivity\n",
    "$$H(x) = \\left[ \\frac{p_x^2}{2m} - \\mu \\right]\\sigma_0\\otimes\\tau_z + \\alpha p_x \\sigma_y \\otimes \\tau_z + \\frac{1}{2}B_x\\sigma_x \\otimes \\tau_0  + \\Delta\\sigma_0\\otimes\\tau_x$$\n"
   ]
  },
  {
   "cell_type": "code",
   "execution_count": null,
   "metadata": {
    "collapsed": false
   },
   "outputs": [],
   "source": [
    "lead = make_1d_wire(a=10, L=None)\n",
    "p = make_params()\n",
    "hv.DynamicMap(partial(dm, lead, p, orbital=None), kdims=kdims[:-1])"
   ]
  },
  {
   "cell_type": "markdown",
   "metadata": {},
   "source": [
    "# 2D semiconductor heterostructure with proximity induced superconductivity"
   ]
  },
  {
   "cell_type": "code",
   "execution_count": null,
   "metadata": {
    "collapsed": false,
    "scrolled": false
   },
   "outputs": [],
   "source": [
    "%%opts Path [aspect='square']\n",
    "lead = make_2d_wire(a=10, L=None)\n",
    "p = make_params()\n",
    "hv.DynamicMap(partial(dm, lead, p), kdims=kdims)"
   ]
  },
  {
   "cell_type": "markdown",
   "metadata": {},
   "source": [
    "# 3D semiconductor heterostructure with proximity induced superconductivity\n",
    "\n",
    "\n",
    "$$H=\\left(\\frac{\\mathbf{p}^{2}}{2m}-\\mu\\right)\\sigma_{0}\\otimes\\tau_{z}+\\alpha\\left(p_{y}\\sigma_{x}\\otimes\\tau_{z}-p_{x}\\sigma_{y}\\otimes\\tau_{z}\\right)+\\frac{1}{2}B_{x}\\sigma_{x}\\otimes\\tau_{0}+\\frac{1}{2}B_{y}\\sigma_{y}\\otimes\\tau_{0}+\\frac{1}{2}B_{z}\\sigma_{z}\\otimes\\tau_{0}+\\Delta \\sigma_{0}\\otimes\\tau_{x}$$"
   ]
  },
  {
   "cell_type": "markdown",
   "metadata": {},
   "source": [
    "## 3D wire with constant SC gap, so no external SC"
   ]
  },
  {
   "cell_type": "code",
   "execution_count": null,
   "metadata": {
    "collapsed": false,
    "scrolled": false
   },
   "outputs": [],
   "source": [
    "lead = make_3d_wire(a=10, L=None)\n",
    "p = make_params(V=lambda x, y, z: 0)\n",
    "hv.DynamicMap(partial(dm, lead, p), kdims=kdims)"
   ]
  },
  {
   "cell_type": "markdown",
   "metadata": {},
   "source": [
    "## 3D wire with external SC "
   ]
  },
  {
   "cell_type": "code",
   "execution_count": null,
   "metadata": {
    "collapsed": false,
    "scrolled": false
   },
   "outputs": [],
   "source": [
    "lead = make_3d_wire_external_sc(a=10)\n",
    "p = make_params(V=lambda x, y, z: 0, t_interface=7*constants.t/8, A_correction=True)\n",
    "hv.DynamicMap(partial(dm, lead, p), kdims=kdims)"
   ]
  },
  {
   "cell_type": "markdown",
   "metadata": {},
   "source": [
    "# Wavefunctions\n",
    "Plotting the wavefunction in the cross section of a 3D infinite lead."
   ]
  },
  {
   "cell_type": "code",
   "execution_count": null,
   "metadata": {
    "collapsed": false
   },
   "outputs": [],
   "source": [
    "def wavefunctions(lead, momentum, p):\n",
    "    h, t = lead.cell_hamiltonian(args=[p]), lead.inter_cell_hopping(args=[p])\n",
    "    h_k = lambda k: h + t * np.exp(1j * k) + t.T.conj() * np.exp(-1j * k)\n",
    "    vals, vecs = np.linalg.eigh(h_k(momentum))\n",
    "    indxs = np.argsort(abs(vals))\n",
    "    vecs = vecs[:, indxs]\n",
    "    vals = vals[indxs]\n",
    "    return vals, vecs\n",
    "\n",
    "\n",
    "def densities(lead, momentum, p):\n",
    "    coord = np.array([i.pos for i in lead.sites])\n",
    "    yz = coord[coord[:, 0] == 0][:, 1:]\n",
    "    vals, vecs = wavefunctions(lead, momentum, p)\n",
    "    num_orbital = 4\n",
    "    densities = np.linalg.norm(vecs.reshape(-1, num_orbital, len(vecs)), axis=1)**2\n",
    "    return yz, vals, densities.T\n",
    "\n",
    "\n",
    "num_wfs = 40\n",
    "yz, energies, densities = densities(lead, 0, p)\n",
    "wfs = [kwant.plotter.mask_interpolate(yz, density, oversampling=1)[0] for density in densities[:num_wfs]]"
   ]
  },
  {
   "cell_type": "code",
   "execution_count": null,
   "metadata": {
    "collapsed": false
   },
   "outputs": [],
   "source": [
    "%%opts Image {+framewise} (cmap='viridis') [xaxis=None yaxis=None bgcolor='white']\n",
    "\n",
    "ims = {E: hv.Image(wf) for E, wf in zip(energies, wfs)}\n",
    "hv.HoloMap(ims, kdims=[hv.Dimension('$E$', unit='meV')])"
   ]
  }
 ],
 "metadata": {
  "kernelspec": {
   "display_name": "Python 3",
   "language": "python",
   "name": "python3"
  },
  "language_info": {
   "codemirror_mode": {
    "name": "ipython",
    "version": 3
   },
   "file_extension": ".py",
   "mimetype": "text/x-python",
   "name": "python",
   "nbconvert_exporter": "python",
   "pygments_lexer": "ipython3",
   "version": "3.5.2"
  }
 },
 "nbformat": 4,
 "nbformat_minor": 0
}
